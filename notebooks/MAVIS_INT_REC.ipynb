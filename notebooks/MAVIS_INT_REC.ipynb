{
 "cells": [
  {
   "cell_type": "code",
   "execution_count": null,
   "metadata": {},
   "outputs": [],
   "source": [
    "from mastsel import *"
   ]
  },
  {
   "cell_type": "code",
   "execution_count": null,
   "metadata": {},
   "outputs": [],
   "source": [
    "# PSD wind/vibration: the one for MAVIS (forest of peaks)\n",
    "\n",
    "# Directions for total jitter residual estimation (cartesian in arcsec): \n",
    "# [0,0], [5,-5], [5,5], [-5,5], [-5,-5], [15,-15], [15,15], [-15,15], [-15,-15]\n",
    "# [-15, 15]x[-15, 15] , 4 punti \n",
    "# griglia fitta: ogni 3 mas \n",
    "\n",
    "cartPointingCoords = np.asarray([[5,5]])\n",
    "NGS_flux = [10000, 30000, 5000]\n",
    "NGS_SR_1650 = [0.4, 0.2, 0.6]\n",
    "NGS_FWHM_mas = [90, 110, 85]\n",
    "polarNGSCoords = np.asarray([[30.0,0.0], [50.0,100.0],[10.0,240.0]])\n",
    "cartNGSCoords = np.asarray([polarToCartesian(polarNGSCoords[0]), polarToCartesian(polarNGSCoords[1]), polarToCartesian(polarNGSCoords[2])])\n",
    "mLO = MavisLO(\"../data/ini\", 'mavisParamsTests', 'data/windpsd_mavis.fits')\n",
    "Ctot = mLO.computeTotalResidualMatrix(cartPointingCoords, cartNGSCoords, NGS_flux, NGS_SR_1650, NGS_FWHM_mas)\n",
    "print('Ctot', Ctot.shape, Ctot)"
   ]
  },
  {
   "cell_type": "code",
   "execution_count": null,
   "metadata": {},
   "outputs": [],
   "source": [
    "theta = sp.symbols('theta')\n",
    "sigma_1 = sp.symbols('sigma^2_1')\n",
    "sigma_2 = sp.symbols('sigma^2_2')\n",
    "sigma_X = sp.symbols('sigma^2_X')\n",
    "sigma_Y = sp.symbols('sigma^2_Y')\n",
    "sigma_XY = sp.symbols('sigma^2_XY')\n",
    "eq1 = sp.Eq(theta, sp.S(1)/sp.S(2) * sp.atan( 2*sigma_XY / ( sigma_X-sigma_Y )) )\n",
    "eq2 = sp.Eq(sigma_1, sp.S(1)/sp.S(2) * ( 2*sigma_XY / sp.sin(2*theta) + sigma_X + sigma_Y ) )\n",
    "eq3 = sp.Eq(sigma_2, sigma_X+sigma_Y-sigma_1 )\n",
    "display(eq1)\n",
    "display(eq2)\n",
    "display(eq3)\n",
    "matCovTT = sp.MatrixSymbol('C_TT', 2, 2)\n",
    "matCovTT_rhs = sp.Matrix([[sigma_X, sigma_XY],[sigma_XY, sigma_Y]])\n",
    "ee = sp.Eq(matCovTT, matCovTT_rhs)\n",
    "display(ee)"
   ]
  },
  {
   "cell_type": "code",
   "execution_count": null,
   "metadata": {},
   "outputs": [],
   "source": [
    "matR = sp.MatrixSymbol('R', 2, 6)\n",
    "matP = sp.MatrixSymbol('P_alpha', 2, 5)\n",
    "matW = sp.MatrixSymbol('W', 5, 6)\n",
    "display(sp.Eq(matR, sp.MatMul(matP,matW)) )\n",
    "matC1 = sp.MatrixSymbol('C_1', 2, 2)\n",
    "matCaa = sp.MatrixSymbol('C_aa', 2, 2)\n",
    "matCas = sp.MatrixSymbol('C_as', 2, 6)\n",
    "matCss = sp.MatrixSymbol('C_ss', 6, 6)\n",
    "matC2 = sp.MatrixSymbol('C_2', 2, 2)\n",
    "display(sp.Eq(matC2,  matCaa - sp.MatMul(matCas, matR.T) - sp.MatMul(matR,matCas.T) + sp.MatMul(matR , matCss , matR.T)) )\n",
    "matCnn = sp.MatrixSymbol('C_nn', 6, 6)\n",
    "matC3 = sp.MatrixSymbol('C_3', 2, 2)\n",
    "display(sp.Eq(matC3,  sp.MatMul(matR, matCnn, matR.T)) )\n",
    "matC = sp.MatrixSymbol('C', 2, 2)\n",
    "display(sp.Eq(matC,  matC1+matC2+matC3 ) )"
   ]
  },
  {
   "cell_type": "code",
   "execution_count": null,
   "metadata": {},
   "outputs": [],
   "source": [
    "## The files in the folder are examples of data used or obtained in the jitter computation code. The parameters are the ones defined in params4jittercode.txt, unless otherwise specified. The files are the following:\n",
    "#- example_gaussian_psf.fits: Gaussian PSF for the 2nd star, normalized so that a PSF with SR of 1 would have had a flux of 1 e-, i. e. it takes into account the loss of flux in the PSF core due to SR < 1 and FWHM > diffraction.\n",
    "#- example_slope_noise.fits: Slope standard deviation (in mas) and bias factor in the case of the 2nd star sensed at 500 Hz.: due valori sigma e mu/shift\n",
    "#- windpsd_mavis.fits: PSD of tip and tilt (in nm2/Hz) due to wind/vibrations for MAVIS. Format: [nfreq,3]. 1st index: frequency in Hz. 2nd index: Tip PSD. 3rd index: Tilt PSD.\n",
    "#- minim_wind_noise12071nm2_psdmavis.fits: Table of residual variance on tip and tilt (in nm2) due to wind/vibrations for all the considered gains of the double integrator. Computed for the 2nd star sensed at 500 Hz. The noise level of 12071 nm2 corresponds to the slope error in example_slope_noise.fits. Format: [ngains,ngains,2].\n",
    "#- psd_turb.fits: PSD of turbulent tip and tilt in nm2/Hz. Format: [nfreq,3]. 1st index: frequency in Hz. 2nd index: Tip PSD. 3rd index: Tilt PSD.\n",
    "#- res_noise_ngs.fits: Residual variance of tip and tilt (in nm2) for all gains explored in the noise computation. Computed for the 2nd star at 500 Hz.\n",
    "#- Cn.fits: Noise covariance matrix for all stars sensed at 500 Hz.\n",
    "#- rec_tomo.fits: Tomographic reconstructor.\n",
    "#- cov_tomo_onaxis.fits: Resulting covariance matrix of tip/tilt on axis for the tomography contribution. : C3\n",
    "#- cov_noise_onaxis.fits: Resulting covariance matrix of tip/tilt on axis for the noise contribution. Computed using Cn.fits. : C3\n",
    "# ok sarebbe le 9 C per le 9 direzioni specificate nei parametri\n",
    "#- jitter_map.fits: Resulting jitter map for the configuration described in params4jittercode.txt. Format: [ndirections,5]. 1st & 2nd indexes: X, Y coordinates in arcsec. 3rd & 4th indexes: tip/tilt standard deviation along the major & minor axes (in mas). 5th index: Angle between the major axis and the X axis in degrees (counterclockwise).\n",
    "filenames = ['Cn.fits', 'example_gaussian_psf.fits', 'psd_turb.fits',  'res_noise_ngs.fits', 'cov_noise_onaxis.fits',\n",
    "             'cov_tomo_onaxis.fits', 'jitter_map.fits', 'rec_tomo.fits', 'example_slope_noise.fits']\n",
    "# torna simile se moltiplico tutte le posizioni delle stelle per 2\n",
    "filenames1 = ['rec_tomo.fits']\n",
    "# torna simile se moltiplico tutte le posizioni delle stelle per 2\n",
    "filenames2 = ['res_noise_ngs.fits']\n",
    "# 'windpsd_maory.fits', 'minim_wind_noise12071nm2_psdmaory.fits',\n",
    "# 'windpsd_mavis.fits', 'minim_wind_noise12071nm2_psdmavis.fits',\n",
    "for name in filenames1:\n",
    "    hdul = fits.open('../data/' + name)\n",
    "    _data = np.asarray(hdul[0].data, np.float64)\n",
    "    print(_data.shape)\n",
    "#    if len(_data.shape) == 2:\n",
    "#        plt.figure(figsize=(5, 5))\n",
    "#        plt.subplot(1, 1, 1)\n",
    "#        plt.imshow(_data, origin='lower', interpolation='nearest')\n",
    "    #if len(_data.shape) == 1:\n",
    "    print(_data)\n",
    "#    plt.yscale('log')\n",
    "#    plt.plot(_data[0]) \n",
    "#    plt.plot(_data[1]) "
   ]
  }
 ],
 "metadata": {
  "kernelspec": {
   "display_name": "Python 3 (ipykernel)",
   "language": "python",
   "name": "python3"
  },
  "language_info": {
   "codemirror_mode": {
    "name": "ipython",
    "version": 3
   },
   "file_extension": ".py",
   "mimetype": "text/x-python",
   "name": "python",
   "nbconvert_exporter": "python",
   "pygments_lexer": "ipython3",
   "version": "3.7.8"
  }
 },
 "nbformat": 4,
 "nbformat_minor": 4
}
