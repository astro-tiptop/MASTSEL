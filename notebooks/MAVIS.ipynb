{
 "cells": [
  {
   "cell_type": "code",
   "execution_count": null,
   "metadata": {},
   "outputs": [],
   "source": [
    "from P3.aoSystem.fourierModel import *\n",
    "\n",
    "fao = fourierModel(\"../data/ini/mavisParamsTests.ini\", calcPSF=True, verbose=False, display=True)\n",
    "print(fao)"
   ]
  },
  {
   "cell_type": "code",
   "execution_count": null,
   "metadata": {},
   "outputs": [],
   "source": [
    "from mastsel import *\n",
    "\n",
    "# calcolo sulla GPU: quasi fatto, maca psd generation (facile) fitting (boh)\n",
    "# caclolare la psf short exposure (Fatto)\n",
    "# avendo la psf:\n",
    "# 1. calcolare il profilo radiale della psf (Fatto)\n",
    "# 2. n-square energy, energia che sta dentro quadrati di lato crescente (Fatto)\n",
    "# 3. FWHM ( date le 2 varianze: FWHM = 0.5 * k * sqrt( sigma1 + sigma2)   )\n",
    "# 4. Strehl ()\n",
    "# 5. Convoluzione con un kernel della PSF: (Fatto)\n",
    "#    kernel, nello stesso spazio della psf\n",
    "# costruzione del kernel a partire da orientamento degli assi (un angolo)\n",
    "# e matrice di covarianzaoppure le due FWHM ()\n",
    "\n",
    "# atmosphereWavelength= 500e-9                                                            # Atmosphere wavelength in m\n",
    "# ScienceWavelength   = 640e-9                                                            # Imaging wavelength [m]\n",
    "\n",
    "# prima usavamo 550e-9\n",
    "# SensingWavelength_HO   = 589e-9                                                         # Sensing wavelength in [m]\n",
    "\n",
    "# SensingWavelength_LO   = 1650*1e-9                                                      # Sensing wavelenth in [m]\n",
    "\n",
    "path = \"../data/\"\n",
    "parametersFile = 'mavisParamsTests'\n",
    "namespace = {}\n",
    "params_module = __import__(parametersFile, globals(), locals())\n",
    "exec( open(path + parametersFile + \".py\").read(), namespace)\n",
    "globals().update(vars(params_module))\n",
    "globals().update(namespace)"
   ]
  },
  {
   "cell_type": "code",
   "execution_count": null,
   "metadata": {},
   "outputs": [],
   "source": [
    "Field_size = 1024*4\n",
    "defaultArrayBackend=cp\n",
    "f2 = Field(SensingWavelength_HO, Field_size, 32*4, 'm' )\n",
    "f2.setAsTelescopeMask(4,0)"
   ]
  },
  {
   "cell_type": "code",
   "execution_count": null,
   "metadata": {},
   "outputs": [],
   "source": [
    "#%%timeit\n",
    "#f2.pupilToPsf()"
   ]
  },
  {
   "cell_type": "code",
   "execution_count": null,
   "metadata": {},
   "outputs": [],
   "source": [
    "# Field_size = 1024*4\n",
    "# defaultArrayBackend=np\n",
    "# f2 = Field(SensingWavelength_HO, Field_size, 32*4, 'm', np, float)\n",
    "# f2.setAsTelescopeMask(4,0)"
   ]
  },
  {
   "cell_type": "code",
   "execution_count": null,
   "metadata": {},
   "outputs": [],
   "source": [
    "#%%timeit\n",
    "#f2.pupilToPsf()"
   ]
  },
  {
   "cell_type": "code",
   "execution_count": null,
   "metadata": {},
   "outputs": [],
   "source": [
    "f2 = Field(SensingWavelength_HO, Field_size, 32*4)\n",
    "f2.setAsTelescopeMask(4,0)\n",
    "f2.pupilToPsf()\n",
    "f2.standardPlot(True, zoom=8)\n",
    "\n",
    "\n",
    "f1 = Field(SensingWavelength_HO, Field_size, 32*4)\n",
    "f1.setAsTelescopeMask(4,0)\n",
    "f1.pupilToPsf()\n",
    "print(f1.FWHM())\n",
    "\n",
    "f1.printStatus()\n",
    "\n",
    "f1.setAsGaussianKernel(f1.pixel_size*4, f1.pixel_size*5, np.pi/8.0)\n",
    "f1.standardPlot(True, zoom=8)\n",
    "f1.printStatus()\n",
    "\n",
    "f3 = convolve(f2, f1)\n",
    "f3.standardPlot(True, zoom=8)\n",
    "f3.printStatus()\n",
    "print(f3.FWHM())"
   ]
  },
  {
   "cell_type": "code",
   "execution_count": null,
   "metadata": {},
   "outputs": [],
   "source": [
    "f1 = Field(SensingWavelength_HO, Field_size, 16*TelescopeDiameter)\n",
    "f1.setAsTelescopeMask(TelescopeDiameter/2,0)\n",
    "f1.standardPlot()\n",
    "f1.printStatus()\n",
    "\n",
    "f1.pupilToPsf()\n",
    "#f1.pupilToOtf()\n",
    "f1.standardPlot()\n",
    "f1.printStatus()\n",
    "\n",
    "f2 = Field(SensingWavelength_HO, 1700, 16*TelescopeDiameter)\n",
    "\n",
    "# r0 = 0.8\n",
    "r0 = 0.976*atmosphereWavelength/seeing*206264.8 # old: 0.15        \n",
    "# 'Kolmogorov' does not us l0_, before we used 'VonKarman'\n",
    "l0_ = 0.005\n",
    "f2.setAsPSD(16*TelescopeDiameter, r0, L0, l0_, 'Kolmogorov')\n",
    "f2.standardPlot(True)\n",
    "f2.printStatus()\n",
    "\n",
    "# _, _, f_turb = turbolenceFormulas.getFormula('phaseSpatialPowerSpectrumVonKarman')\n",
    "# r0 = 0.9759 * 0.5/(seeing*4.848)\n",
    "# vk_l[*,*,i] = (24/5.*gamma(6/5.))^(5./6)*gamma(11/6.)^2/(2*!pi^(11./3))*r0^(-5./3)*(freqs_x^2.+freqs_y^2.+1./L0^2.)^(-11./6)"
   ]
  },
  {
   "cell_type": "code",
   "execution_count": null,
   "metadata": {},
   "outputs": [],
   "source": [
    "N = Field_size\n",
    "wvl = SensingWavelength_HO # lambda\n",
    "pixel_psf = 14.9 # mas\n",
    "tel_radius = TelescopeDiameter/2\n",
    "\n",
    "fit_factor = 3.0\n",
    "up_factor = 1\n",
    "\n",
    "pixel_psf_upsampled = (pixel_psf / up_factor) / radiansToMas\n",
    "pitch = wvl / (pixel_psf_upsampled * N) # rad\n",
    "\n",
    "while pitch*N < 2*tel_radius*fit_factor:\n",
    "    up_factor += 1\n",
    "    pixel_psf_upsampled = (pixel_psf / up_factor) / radiansToMas\n",
    "    pitch = wvl / (pixel_psf_upsampled * N) # rad\n",
    "\n",
    "grid_diameter = pitch*N\n",
    "    \n",
    "print('grid_diameter:', grid_diameter)\n",
    "print('up_factor:', up_factor)\n",
    "\n",
    "freq_range = 1.0/pitch\n",
    "\n",
    "mask = Field(wvl, N, pitch*N)\n",
    "mask.setAsTelescopeMask(tel_radius, 0)\n",
    "mask.standardPlot()\n",
    "mask.printStatus()\n",
    "\n",
    "psd = Field(wvl, N, freq_range)\n",
    "\n",
    "#r0 = 0.8\n",
    "r0 = 0.976*atmosphereWavelength/seeing*206264.8 # old: 0.15        \n",
    "# 'Kolmogorov' does not us l0_, before we used 'VonKarman'\n",
    "l0_ = 0.005\n",
    "psd.setAsPSD(grid_diameter, r0, L0, l0_, 'Kolmogorov')\n",
    "psd.standardPlot(True)\n",
    "psd.printStatus()\n",
    "\n",
    "#myResult= longExposurePsf(mask, psd)\n",
    "#myResult.normalize()\n",
    "##myResult.downSample(up_factor)\n",
    "#myResult.standardPlot(True)\n",
    "#myResult.printStatus()\n",
    "\n",
    "psd.PSDToPhaseScreen()\n",
    "phaseScreen = psd\n",
    "myResult2= shortExposurePsf(mask, phaseScreen)\n",
    "#myResult2.normalize()\n",
    "#myResult2.downSample(up_factor)\n",
    "myResult2.standardPlot(True, zoom=8)\n",
    "myResult2.printStatus()\n",
    "\n",
    "\n",
    "print( 'Strehl:', StrehlFromMask(myResult2, mask ) )"
   ]
  },
  {
   "cell_type": "code",
   "execution_count": null,
   "metadata": {},
   "outputs": [],
   "source": [
    "    \n",
    "#pp = myResult.radial_profile([myResult.N/2.0, myResult.N/2.0] )\n",
    "#plt.plot( xp.log( pp ) )\n",
    "\n",
    "pp = myResult2.n_square_energy([myResult2.N/2.0, myResult2.N/2.0] )\n",
    "plt.xscale('linear')\n",
    "plt.yscale('log')\n",
    "plt.plot( hostData(cp.asarray(cp.arange(1,myResult2.N/2.0+2))), hostData(pp) )\n",
    "\n",
    "nn=32\n",
    "s1 = centralSquare(myResult2.sampling, nn)\n",
    "z = hostData(cp.copy(s1))\n",
    "y, x = np.mgrid[:nn, :nn]\n",
    "fit_p, p_init = fitGaussian(z)\n",
    "p = fit_p(p_init, x, y, z)\n",
    "\n",
    "print(p.x_mean.value)\n",
    "print(p.x_stddev.value)\n",
    "\n",
    "plt.figure(figsize=(8*2, 5))\n",
    "plt.subplot(1, 3, 1)\n",
    "plt.imshow(z, origin='lower', interpolation='nearest')\n",
    "plt.title(\"Data\")\n",
    "plt.subplot(1, 3, 2)\n",
    "plt.imshow(p(x, y), origin='lower', interpolation='nearest')\n",
    "plt.title(\"Model\")\n",
    "plt.subplot(1, 3, 3)\n",
    "residual = z - p(x, y)\n",
    "print('max residual:', np.max(residual))\n",
    "plt.imshow(residual, origin='lower', interpolation='nearest')\n",
    "# plt.title(\"Residual\")\n"
   ]
  },
  {
   "cell_type": "code",
   "execution_count": null,
   "metadata": {},
   "outputs": [],
   "source": []
  },
  {
   "cell_type": "code",
   "execution_count": null,
   "metadata": {},
   "outputs": [],
   "source": [
    "# pup_plane_width = 0.0024986730 # pixel size in pupil plane in arcsec\n",
    "pitch = 0.0564706 # meters, pixel size of the mask\n",
    "freq_range = 1.0/pitch\n",
    "N = 1700\n",
    "wvl = SensingWavelength_HO # lambda\n",
    "\n",
    "mask = Field(wvl, N, pitch*N)\n",
    "mask.loadSamplingFromFile('data/MASK4fabio.fits')\n",
    "\n",
    "psd = Field(wvl, N, freq_range)\n",
    "psd.loadSamplingFromFile('data/PSD4fabio.fits')\n",
    "\n",
    "# .... wrong width and unit ....\n",
    "result = Field(wvl, N, 32*4)\n",
    "result.loadSamplingFromFile('data/PSF4fabio.fits')\n",
    "result.normalize()"
   ]
  },
  {
   "cell_type": "code",
   "execution_count": null,
   "metadata": {},
   "outputs": [],
   "source": [
    "myResult= longExposurePsf(mask, psd)\n",
    "myResult.normalize()\n",
    "myResult.standardPlot(True)\n",
    "myResult.printStatus()\n",
    "result.standardPlot(True)\n",
    "#twoPsfsPlot(np.asarray(result.sampling), np.asarray(myResult.sampling))\n",
    "print('Max of the difference of the two PSFs:', np.max(result.sampling-myResult.sampling))"
   ]
  },
  {
   "cell_type": "code",
   "execution_count": null,
   "metadata": {},
   "outputs": [],
   "source": []
  },
  {
   "cell_type": "code",
   "execution_count": null,
   "metadata": {},
   "outputs": [],
   "source": []
  },
  {
   "cell_type": "code",
   "execution_count": null,
   "metadata": {},
   "outputs": [],
   "source": []
  },
  {
   "cell_type": "code",
   "execution_count": null,
   "metadata": {},
   "outputs": [],
   "source": []
  }
 ],
 "metadata": {
  "kernelspec": {
   "display_name": "Python 3 (ipykernel)",
   "language": "python",
   "name": "python3"
  },
  "language_info": {
   "codemirror_mode": {
    "name": "ipython",
    "version": 3
   },
   "file_extension": ".py",
   "mimetype": "text/x-python",
   "name": "python",
   "nbconvert_exporter": "python",
   "pygments_lexer": "ipython3",
   "version": "3.7.8"
  }
 },
 "nbformat": 4,
 "nbformat_minor": 4
}
