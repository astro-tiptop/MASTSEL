{
 "cells": [
  {
   "cell_type": "code",
   "execution_count": null,
   "metadata": {},
   "outputs": [],
   "source": [
    "%matplotlib inline\n",
    "\n",
    "from matplotlib import rc\n",
    "from P3.aoSystem.fourierModel import *\n",
    "from P3.aoSystem.FourierUtils import *\n",
    "from mastsel import *\n",
    "rc(\"text\", usetex=False)"
   ]
  },
  {
   "cell_type": "code",
   "execution_count": null,
   "metadata": {},
   "outputs": [],
   "source": [
    "path = \"../data/ini/\"\n",
    "parametersFile = 'mavisParamsTests'\n",
    "fullPathFilename = path + parametersFile + '.ini'\n",
    "parser = ConfigParser()\n",
    "parser.read(fullPathFilename);\n",
    "wvl = eval(parser.get('sources_science', 'Wavelength'))[0]  # lambda\n",
    "pixel_psf = eval(parser.get('telescope', 'TelescopeDiameter'))      # mas"
   ]
  },
  {
   "cell_type": "code",
   "execution_count": null,
   "metadata": {},
   "outputs": [],
   "source": [
    "N = 960\n",
    "fao = fourierModel(fullPathFilename, calcPSF=False, verbose=True, display=False)\n",
    "freq_range = fao.ao.cam.fovInPix*fao.freq.PSDstep # fao.psf_FoV/fao.wvlRef/206264.8\n",
    "inputPsf = Field(wvl, N, freq_range, 'rad')\n",
    "inputPsf.loadSamplingFromFile('../data/convTestData/psf_for_convol.fits')\n",
    "convolutionKernel = Field(wvl, N, freq_range, 'rad')\n",
    "convolutionKernel.loadSamplingFromFile('../data/convTestData/fourierkernel_for_convol.fits')\n",
    "result = Field(wvl, N, freq_range, 'rad')\n",
    "result.loadSamplingFromFile('../data/convTestData/final_psf_convol.fits')\n",
    "myresult = convolve(inputPsf, convolutionKernel)\n",
    "result.standardPlot(True)\n",
    "myresult.standardPlot(True)\n",
    "samplingsifference = cp.asnumpy(myresult.sampling) - cp.asnumpy(result.sampling)\n",
    "print(np.max(samplingsifference), np.min(samplingsifference) )"
   ]
  },
  {
   "cell_type": "code",
   "execution_count": null,
   "metadata": {},
   "outputs": [],
   "source": [
    "convolutionKernel.standardPlot(False)\n",
    "myConvKernel = residualToSpectrum([np.pi-1.0472, 4.2661, 2.12330], wvl, N, 1.163545*960 ) # fao.psf_FoV*fao.psInMas\n",
    "myConvKernel.standardPlot(False)\n",
    "\n",
    "dd = Field(wvl, N, freq_range, 'rad')\n",
    "\n",
    "dd.sampling = convolutionKernel.sampling - myConvKernel.sampling\n",
    "dd.standardPlot(False)\n"
   ]
  },
  {
   "cell_type": "code",
   "execution_count": null,
   "metadata": {},
   "outputs": [],
   "source": []
  },
  {
   "cell_type": "code",
   "execution_count": null,
   "metadata": {},
   "outputs": [],
   "source": []
  }
 ],
 "metadata": {
  "kernelspec": {
   "display_name": "Python 3 (ipykernel)",
   "language": "python",
   "name": "python3"
  },
  "language_info": {
   "codemirror_mode": {
    "name": "ipython",
    "version": 3
   },
   "file_extension": ".py",
   "mimetype": "text/x-python",
   "name": "python",
   "nbconvert_exporter": "python",
   "pygments_lexer": "ipython3",
   "version": "3.7.8"
  }
 },
 "nbformat": 4,
 "nbformat_minor": 4
}
