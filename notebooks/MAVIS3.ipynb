{
 "cells": [
  {
   "cell_type": "code",
   "execution_count": null,
   "metadata": {},
   "outputs": [],
   "source": [
    "from mastsel import *\n",
    "\n",
    "hdul = fits.open('../data/psd_turb.fits')\n",
    "psd_turb_data = np.asarray(hdul[0].data, np.float64)\n",
    "hdul = fits.open('../data/res_noise_ngs.fits')\n",
    "res_noise_ngs_data = np.asarray(hdul[0].data, np.float64)\n",
    "res_noise_ngs_tip = res_noise_ngs_data[0]\n",
    "res_noise_ngs_tilt = res_noise_ngs_data[1]\n",
    "minTipIdx = np.where(res_noise_ngs_tip == np.amin(res_noise_ngs_tip))\n",
    "minTiltIdx = np.where(res_noise_ngs_tilt == np.amin(res_noise_ngs_tilt))\n",
    "print(minTipIdx[0], res_noise_ngs_tip[minTipIdx[0][0]])\n",
    "print(minTiltIdx[0], res_noise_ngs_tilt[minTiltIdx[0][0]])\n",
    "hdul = fits.open('../data/Cn.fits')\n",
    "Cnn_data = np.asarray(hdul[0].data, np.float64)\n",
    "print(Cnn_data)\n",
    "hdul = fits.open('../data/minim_wind_noise12071nm2_psdmavis.fits')\n",
    "windNoise = np.asarray(hdul[0].data, np.float64)\n",
    "minTipIdx = np.where(windNoise[0] == np.amin(windNoise[0]))\n",
    "minTiltIdx = np.where(windNoise[1] == np.amin(windNoise[1]))\n",
    "print(minTipIdx[0], minTipIdx[1], windNoise[0][minTipIdx[0][0], minTipIdx[1][0]])\n",
    "print(minTiltIdx[0], minTiltIdx[1], windNoise[1][minTiltIdx[0][0], minTiltIdx[1][0]])"
   ]
  },
  {
   "cell_type": "code",
   "execution_count": null,
   "metadata": {},
   "outputs": [],
   "source": [
    "mLO = MavisLO(\"../data/ini\", 'mavisParamsTests', 'data/windpsd_mavis.fits')\n",
    "# phi_noise e' una costante pari a sigma^2 cog # / Df \n",
    "hdul = fits.open('../data/windpsd_mavis.fits')\n",
    "psd_data = np.asarray(hdul[0].data, np.float64)\n",
    "psd_freq = np.asarray(np.linspace(0.5, 250.0, 500))\n",
    "psd_tip_wind = np.zeros((500))\n",
    "psd_tilt_wind = np.zeros((500))\n",
    "psd_tip_wind[0:200] = psd_data[1,:]\n",
    "psd_tilt_wind[0:200] = psd_data[2,:]\n",
    "var1x = 0.05993281522281573 * mLO.PixelScale_LO**2\n",
    "bias = 0.4300779971881394\n",
    "print(mLO.computeNoiseResidual(0.25, 250.0, 1000, var1x, bias, gpulib ))\n",
    "# queste due varianze vanno in diagonale di Cn (insieme a quelle delle altre 2 stelle, da calcolare)\n",
    "# cabia il flusso, strhel fwhw, calcolo di bias diversi e ripetizione di questo calcolo\n",
    "print(mLO.computeWindResidual(psd_freq, psd_tip_wind, psd_tilt_wind, var1x, bias, gpulib ))\n",
    "# queste due varianze vanno in diagonale di C1\n",
    "# questo conto e' fatto una volta sola , sulla stella piu' brillante"
   ]
  },
  {
   "cell_type": "code",
   "execution_count": null,
   "metadata": {},
   "outputs": [],
   "source": [
    "%%timeit\n",
    "mLO.computeNoiseResidual(0.25, 250.0, 1000, var1x, bias, cpulib )"
   ]
  },
  {
   "cell_type": "code",
   "execution_count": null,
   "metadata": {},
   "outputs": [],
   "source": [
    "%%timeit\n",
    "mLO.computeNoiseResidual(0.25, 250.0, 1000, var1x, bias, gpulib )"
   ]
  },
  {
   "cell_type": "code",
   "execution_count": null,
   "metadata": {},
   "outputs": [],
   "source": [
    "%%timeit\n",
    "mLO.computeWindResidual(psd_freq, psd_tip_wind, psd_tilt_wind, var1x, bias, cpulib )"
   ]
  },
  {
   "cell_type": "code",
   "execution_count": null,
   "metadata": {},
   "outputs": [],
   "source": [
    "%%timeit\n",
    "mLO.computeWindResidual(psd_freq, psd_tip_wind, psd_tilt_wind, var1x, bias, gpulib )"
   ]
  }
 ],
 "metadata": {
  "kernelspec": {
   "display_name": "Python 3 (ipykernel)",
   "language": "python",
   "name": "python3"
  },
  "language_info": {
   "codemirror_mode": {
    "name": "ipython",
    "version": 3
   },
   "file_extension": ".py",
   "mimetype": "text/x-python",
   "name": "python",
   "nbconvert_exporter": "python",
   "pygments_lexer": "ipython3",
   "version": "3.7.8"
  }
 },
 "nbformat": 4,
 "nbformat_minor": 4
}
