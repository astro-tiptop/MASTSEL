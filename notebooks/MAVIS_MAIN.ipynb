{
 "cells": [
  {
   "cell_type": "code",
   "execution_count": null,
   "metadata": {},
   "outputs": [],
   "source": [
    "from mastsel import *\n",
    "\n",
    "# %load_ext line_profiler"
   ]
  },
  {
   "cell_type": "code",
   "execution_count": null,
   "metadata": {},
   "outputs": [],
   "source": [
    "xx, yy = np.linspace(-15, 15,5), np.linspace(-15,15,5)\n",
    "cartPointingCoords =  np.dstack(np.meshgrid(xx, yy)).reshape(-1, 2)\n",
    "NGS_flux = [10000, 30000, 5000]\n",
    "NGS_SR_1650 = [0.4, 0.2, 0.6]\n",
    "NGS_FWHM_mas = [90, 110, 85]\n",
    "polarNGSCoords = np.asarray([[30.0,0.0], [50.0,100.0],[10.0,240.0]])\n",
    "#polarNGSCoords = np.asarray([[10.0,0.0], [10.0,120.0],[10.0,240.0]])\n",
    "cartNGSCoords = np.asarray([polarToCartesian(polarNGSCoords[0,:]), polarToCartesian(polarNGSCoords[1,:]), polarToCartesian(polarNGSCoords[2,:])])\n",
    "mLO = MavisLO(\"/home/frossi/dev/TIPTOP/MASTSEL/data/ini\", 'mavisParamsTests', 'data/windpsd_mavis.fits')"
   ]
  },
  {
   "cell_type": "code",
   "execution_count": null,
   "metadata": {},
   "outputs": [],
   "source": [
    "%%time \n",
    "Ctot = mLO.computeTotalResidualMatrix(cartPointingCoords, cartNGSCoords, NGS_flux, NGS_SR_1650, NGS_FWHM_mas)"
   ]
  },
  {
   "cell_type": "code",
   "execution_count": null,
   "metadata": {},
   "outputs": [],
   "source": [
    "%matplotlib inline\n",
    "cov_ellipses = mLO.ellipsesFromCovMats(Ctot)\n",
    "plotEllipses(cartPointingCoords, cov_ellipses, 0.2)"
   ]
  },
  {
   "cell_type": "code",
   "execution_count": null,
   "metadata": {},
   "outputs": [],
   "source": [
    "#%lprun -f MavisLO.computeTotalResidualMatrix Ctot = mLO.computeTotalResidualMatrix(cartPointingCoords, cartNGSCoords, NGS_flux, NGS_SR_1650, NGS_FWHM_mas)"
   ]
  },
  {
   "cell_type": "code",
   "execution_count": null,
   "metadata": {},
   "outputs": [],
   "source": [
    "#print('Ctot', Ctot)\n",
    "#Ctot [[[18545.18136324  3308.78460439]\n",
    "#  [ 3308.78460439 20872.5522838 ]]\n",
    "# [[28.59791617 -3.8054102  35.15831592 -1.7180003  46.33356834 -0.51767148]\n",
    "#  [-3.8054102  38.74567669 -1.7180003  17.85779335 -0.51767148 46.82192702]]"
   ]
  },
  {
   "cell_type": "code",
   "execution_count": null,
   "metadata": {},
   "outputs": [],
   "source": [
    "#%%time\n",
    "cartNGSCoords = np.asarray([polarToCartesian(polarNGSCoords[0,:]), polarToCartesian(polarNGSCoords[1,:]), polarToCartesian(polarNGSCoords[2,:])])\n",
    "Ctot = mLO.computeTotalResidualMatrix(cartPointingCoords, cartNGSCoords, NGS_flux, NGS_SR_1650, NGS_FWHM_mas)\n",
    "print('Ctot', Ctot)\n",
    "Ctot = np.asarray(Ctot)\n",
    "cov_ellipses = mLO.ellipsesFromCovMats(Ctot)"
   ]
  },
  {
   "cell_type": "code",
   "execution_count": null,
   "metadata": {},
   "outputs": [],
   "source": [
    "scale =1.0\n",
    "print(0.5 * np.arctan( 2*-2405.86006388 / ( 12145.83654855-14191.5529846 )))\n",
    "print(np.sqrt( 0.5 * ( 2*-2405.86006388 / np.sin(2*0.5843981184677838) + 12145.83654855+14191.5529846) ) / scale)\n",
    "print( np.sqrt(12145.83654855+14191.5529846-10554.42592401998)/scale )\n",
    "# manca conversione da nanometri a mas:\n"
   ]
  },
  {
   "cell_type": "code",
   "execution_count": null,
   "metadata": {},
   "outputs": [],
   "source": [
    "%%timeit\n",
    "Ctot = mLO.computeTotalResidualMatrix(cartPointingCoords, cartNGSCoords, NGS_flux, NGS_SR_1650, NGS_FWHM_mas)"
   ]
  }
 ],
 "metadata": {
  "kernelspec": {
   "display_name": "Python 3 (ipykernel)",
   "language": "python",
   "name": "python3"
  },
  "language_info": {
   "codemirror_mode": {
    "name": "ipython",
    "version": 3
   },
   "file_extension": ".py",
   "mimetype": "text/x-python",
   "name": "python",
   "nbconvert_exporter": "python",
   "pygments_lexer": "ipython3",
   "version": "3.7.8"
  }
 },
 "nbformat": 4,
 "nbformat_minor": 4
}
